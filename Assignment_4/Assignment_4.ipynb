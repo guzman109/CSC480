{
  "nbformat": 4,
  "nbformat_minor": 0,
  "metadata": {
    "colab": {
      "name": "Assignment 4.ipynb",
      "provenance": [],
      "collapsed_sections": []
    },
    "kernelspec": {
      "name": "python3",
      "display_name": "Python 3"
    },
    "language_info": {
      "name": "python"
    }
  },
  "cells": [
    {
      "cell_type": "markdown",
      "metadata": {
        "id": "R_xvUVHzdf3C"
      },
      "source": [
        "# Assignment 4\n",
        "Carlos Guzman"
      ]
    },
    {
      "cell_type": "code",
      "metadata": {
        "id": "Z5B7IYUrb40O"
      },
      "source": [
        "import numpy as np\n",
        "import pandas as pd\n",
        "from scipy.stats import pearsonr\n",
        "from IPython.display import Markdown as md"
      ],
      "execution_count": null,
      "outputs": []
    },
    {
      "cell_type": "markdown",
      "metadata": {
        "id": "xsaD4uLWdohs"
      },
      "source": [
        "## Part 1: Naïve Bayes Classification for Text"
      ]
    },
    {
      "cell_type": "markdown",
      "metadata": {
        "id": "ujABj9tH_vQi"
      },
      "source": [
        "My Naive Bayes Classifier class is what I call to instatiate a model. This class fits the training data and can be called to predict the class for a new sample. It is modeled after the Scikit Learn Models. You can also view the probabilies if you wish to and also contains Auxiliary Methods to help with the calculations for the training and testing steps.\n",
        "\n"
      ]
    },
    {
      "cell_type": "code",
      "metadata": {
        "id": "LNUxw1a5Bz4Z"
      },
      "source": [
        "class Naive_Bayes_Classifier:\n",
        "  def __init__(self, C, terms):\n",
        "    \"\"\"\n",
        "    Constructor for Naive_Bayes_classifier.\n",
        "\n",
        "    :param self:  Instance of clase\n",
        "    :param C:     Number of classes.\n",
        "    :param terms: The terms that are used in the dataset.\n",
        "    \"\"\"\n",
        "    self.C = C\n",
        "    self.terms = terms\n",
        "  \"\"\" Train and Test Methods \"\"\"\n",
        "  def fit(self, X, y):\n",
        "    \"\"\"\n",
        "    Training step for the model. Calculates the priors for the classes. \n",
        "    Then it calulates the likelihood the dataset.\n",
        "\n",
        "    :param self:  Instance of class.\n",
        "    :param X:     Data points\n",
        "    :param y:     Ground truth class labels     \n",
        "    \"\"\"\n",
        "    self.calculate_priors(y)\n",
        "    self.calculate_likelihoods(X,y)\n",
        "  def predict(self, X):\n",
        "    \"\"\"\n",
        "    Predicting step for the model. Calculates the posteriors for the given \n",
        "    data points and returns predictions for each data point.\n",
        "\n",
        "    :param self:  Instance of class.\n",
        "    :param X:     Data points\n",
        "\n",
        "    :return:      Calculated Predictions\n",
        "    \"\"\"\n",
        "    self.calculate_posteriors(X)\n",
        "    return np.argmax(self.posteriors, axis=1)\n",
        "\n",
        "  \"\"\" Printing Methods \"\"\"\n",
        "  def view_priors(self):\n",
        "    \"\"\"\n",
        "    This method allows the user to view the priors calculated for each class.\n",
        "\n",
        "    :param self: Instance of class\n",
        "    \"\"\"\n",
        "    for c in range(self.C):\n",
        "      print(f'Class {c}: {self.priors[c]:.6f}')\n",
        "  def view_likelihood(self, item):\n",
        "    \"\"\"\n",
        "    This method allows the user to view the likelihood for an item(str or int).\n",
        "    The user will either feed the index of the item (int) or the term (str).\n",
        "    The will check the instance of item to see if it is an integer or string and\n",
        "      return the corresponding likelihood for that item if it is in the dataset.\n",
        "    \n",
        "    :param self: Instance of class\n",
        "    :param item: Item to look up. Can be an index(int) or the term(str).\n",
        "    \"\"\"\n",
        "    if isinstance(item, int):\n",
        "      if item < self.likelihoods.shape[0]:\n",
        "        print(f'Probabilities for index {item}: {{{self.likelihoods[item,0]:.6f}, {self.likelihoods[item,1]:.6f}}}')\n",
        "      else:\n",
        "        print(f'Index {item} exceeds size of dataset.')\n",
        "    elif isinstance(item, str):\n",
        "      if (self.terms==item).sum():\n",
        "        print(f'Probabilities for term \\'{item}\\': {{{self.likelihoods[self.terms==item,0][0]:.6f}, {self.likelihoods[self.terms==item,1][0]:.6f}}}')\n",
        "      else:\n",
        "        print(f'Term \\'{item}\\' not in dataset.')\n",
        "\n",
        "  \"\"\" Auxiliary Methods \"\"\"\n",
        "  def calculate_priors(self, y):\n",
        "    \"\"\"\n",
        "    Calculates the priors for each class and stores them in a \n",
        "      class variable.\n",
        "    \n",
        "    :param self:  Instance of class.\n",
        "    :param y:     Class labels for each data point.\n",
        "    \"\"\"\n",
        "    self.priors = np.zeros(shape=self.C, dtype=np.float64)\n",
        "    for c in range(self.C):\n",
        "      self.priors[c] = np.sum(y[y==c].shape) / y.shape[0]\n",
        "  def calculate_likelihoods(self, X, y):\n",
        "    \"\"\"\n",
        "    Calculates the likelihood for each term in the dataset and stores them in a\n",
        "      class variable.\n",
        "    \n",
        "    :param self: Instance of class.\n",
        "    :param X:     Data points\n",
        "    :param y:     Ground truth class labels\n",
        "    \"\"\"\n",
        "    self.likelihoods = np.zeros(shape=(X.shape[0], self.C), dtype=np.float64)\n",
        "    for c in range(self.C):\n",
        "      count_c = np.sum(X[:,y==c]) #Total number of elements in class c.\n",
        "      for i in range(X_train.shape[0]):\n",
        "        self.likelihoods[i,c] = (np.sum(X[i,y==c]) + 1) / (count_c + X.shape[0])\n",
        "  def calculate_posteriors(self,X):\n",
        "    \"\"\"\n",
        "    Calculates the posterior for each datapoint and stores them in a\n",
        "      class variable.\n",
        "    \n",
        "    :param self:  Instance of class.\n",
        "    :param X:     Data points\n",
        "    \"\"\"\n",
        "    self.posteriors = np.zeros(shape=(X.shape[1], self.C), dtype=np.float32)\n",
        "    for c in range(self.C):\n",
        "      for j in range(X.shape[1]):\n",
        "        self.posteriors[j,c] = np.sum(np.multiply(np.log10(self.likelihoods[:,c]), X[:,j])) + np.log10(self.priors[c])"
      ],
      "execution_count": null,
      "outputs": []
    },
    {
      "cell_type": "code",
      "metadata": {
        "id": "iSNn-J5LEmb3"
      },
      "source": [
        "def evaluate_model(labels, predictions, verbose = False, i=0, j=-1):\n",
        "  \"\"\"\n",
        "  This function takes in the predicted labels and truth labels and calculates \n",
        "    the accuracy of the model. If the verbose flag is on, then you can view the \n",
        "    truth label and predictions for a single term or a slice of the array.\n",
        "\n",
        "  :param labels:      Truth labels.\n",
        "  :param predicitons: Predictions generated by the model.\n",
        "  :param verbose:     Flag to print the Labels and Predictions for a term or slice.\n",
        "  :param i:           Used to slice the arrays. \n",
        "  :param j:           Used to slice the arrays. \n",
        "\n",
        "  :return:            Accuracy of the model.\n",
        "  \"\"\"\n",
        "  labels = labels.astype(np.int32)\n",
        "  if verbose:\n",
        "    print(f'Labels: \\t{labels[i:j]}')\n",
        "    print(f'Predictions: \\t{predictions[i:j]}')\n",
        "  return (np.sum((predictions == y_test)) / y_test.shape)[0]"
      ],
      "execution_count": null,
      "outputs": []
    },
    {
      "cell_type": "markdown",
      "metadata": {
        "id": "iLWxSWTm8yLk"
      },
      "source": [
        "### Training The Model"
      ]
    },
    {
      "cell_type": "markdown",
      "metadata": {
        "id": "oH20lQr9K7pH"
      },
      "source": [
        "Load the data from the files. Since they are text files we can just load using numpy."
      ]
    },
    {
      "cell_type": "code",
      "metadata": {
        "id": "aVUfIeM9b9QS"
      },
      "source": [
        "X_train, y_train = np.loadtxt('/content/drive/MyDrive/newsgroups/trainMatrix.txt', np.float64), np.loadtxt('/content/drive/MyDrive/newsgroups/trainClasses.txt', np.float64)[:,1]\n",
        "X_test, y_test = np.loadtxt('/content/drive/MyDrive/newsgroups/testMatrix.txt', np.float32), np.loadtxt('/content/drive/MyDrive/newsgroups/testClasses.txt', np.float32)[:,1]\n",
        "terms = np.loadtxt('/content/drive/MyDrive/newsgroups/terms.txt', object)"
      ],
      "execution_count": null,
      "outputs": []
    },
    {
      "cell_type": "markdown",
      "metadata": {
        "id": "KRn4nOLyLHXL"
      },
      "source": [
        "Instantiate the Naive_Bayes_Classifier and start training the model."
      ]
    },
    {
      "cell_type": "code",
      "metadata": {
        "id": "GEEE7KgACoDZ"
      },
      "source": [
        "model = Naive_Bayes_Classifier(len(np.unique(y_train)), terms)\n",
        "model.fit(X_train, y_train)"
      ],
      "execution_count": null,
      "outputs": []
    },
    {
      "cell_type": "markdown",
      "metadata": {
        "id": "RM0WxHEl88Do"
      },
      "source": [
        "### Testing The Model"
      ]
    },
    {
      "cell_type": "markdown",
      "metadata": {
        "id": "0Iv5fHKHLOv_"
      },
      "source": [
        "Now that the model is trained. We can start evaluating the model with the test set. First we predict a class for the data points in the test set."
      ]
    },
    {
      "cell_type": "code",
      "metadata": {
        "id": "oGjKb-hYENJB"
      },
      "source": [
        "y_pred = model.predict(X_test)"
      ],
      "execution_count": null,
      "outputs": []
    },
    {
      "cell_type": "markdown",
      "metadata": {
        "id": "K5YB2b8CMFMH"
      },
      "source": [
        "Next, we evaluate the model by calculating and printing the accuracy."
      ]
    },
    {
      "cell_type": "code",
      "metadata": {
        "colab": {
          "base_uri": "https://localhost:8080/",
          "height": 71
        },
        "id": "qouwPF9wv2fc",
        "outputId": "36abc0ab-82ae-4bcb-bd79-220c4db5924a"
      },
      "source": [
        "accuracy = evaluate_model(y_test, y_pred)\n",
        "md(f'$Test Results:$\\n\\n\\t\\t$Accuracy={accuracy*100:.2f}\\%$')"
      ],
      "execution_count": null,
      "outputs": [
        {
          "output_type": "execute_result",
          "data": {
            "text/markdown": "$Test Results:$\n\n\t\t$Accuracy=99.50\\%$",
            "text/plain": [
              "<IPython.core.display.Markdown object>"
            ]
          },
          "metadata": {},
          "execution_count": 7
        }
      ]
    },
    {
      "cell_type": "markdown",
      "metadata": {
        "id": "kCgd81wNMLSw"
      },
      "source": [
        "We can also view the truth labels and predictions for eith a slice of the test set or a certain element. For instance, the following shows the true labels and predictions for the first 20 elemetns in the test set."
      ]
    },
    {
      "cell_type": "code",
      "metadata": {
        "colab": {
          "base_uri": "https://localhost:8080/",
          "height": 105
        },
        "id": "lDHZe04xE2DV",
        "outputId": "38d9144e-cda8-4c6e-bcfe-fcc34e9b02f9"
      },
      "source": [
        "accuracy = evaluate_model(y_test, y_pred, verbose=True, i=0, j=20)\n",
        "md(f'$Test Results:$\\n\\n\\t\\t$Accuracy={accuracy*100:.2f}\\%$')"
      ],
      "execution_count": null,
      "outputs": [
        {
          "output_type": "stream",
          "name": "stdout",
          "text": [
            "Labels: \t[1 0 0 1 1 0 1 1 0 1 0 1 0 0 1 1 0 1 0 0]\n",
            "Predictions: \t[1 0 0 1 1 0 1 1 0 1 0 1 0 0 1 1 0 1 0 0]\n"
          ]
        },
        {
          "output_type": "execute_result",
          "data": {
            "text/markdown": "$Test Results:$\n\n\t\t$Accuracy=99.50\\%$",
            "text/plain": [
              "<IPython.core.display.Markdown object>"
            ]
          },
          "metadata": {},
          "execution_count": 8
        }
      ]
    },
    {
      "cell_type": "markdown",
      "metadata": {
        "id": "1Nb48WFnMgJn"
      },
      "source": [
        "We can view the likelihoods for eith and index of the term or the term as a string. The following two lines show an example of both for the term 'fit' which is index 5271 in the training set array."
      ]
    },
    {
      "cell_type": "code",
      "metadata": {
        "colab": {
          "base_uri": "https://localhost:8080/"
        },
        "id": "VH0_2kKJIBje",
        "outputId": "499ba532-0614-4b63-e058-845f140ddbc7"
      },
      "source": [
        "# Has to be python int\n",
        "idx = int(np.where(terms == 'fit')[0][0])\n",
        "model.view_likelihood(idx)\n",
        "model.view_likelihood('fit')"
      ],
      "execution_count": null,
      "outputs": [
        {
          "output_type": "stream",
          "name": "stdout",
          "text": [
            "Probabilities for index 5271: {0.000109, 0.000018}\n",
            "Probabilities for term 'fit': {0.000109, 0.000018}\n"
          ]
        }
      ]
    },
    {
      "cell_type": "markdown",
      "metadata": {
        "id": "dP0fCVoAOLcM"
      },
      "source": [
        "Next we show the likelihoods for each of the following terms:\n",
        "\n",
        "*   program\n",
        "*   includ\n",
        "*   match\n",
        "*   game\n",
        "*   plai\n",
        "*   window\n",
        "*   file\n",
        "*   subject\n",
        "*   write\n",
        "\n"
      ]
    },
    {
      "cell_type": "code",
      "metadata": {
        "colab": {
          "base_uri": "https://localhost:8080/"
        },
        "id": "r6jDnhgIN-kj",
        "outputId": "2f44aaa1-2f81-4b9d-aeae-e37a9773bd3f"
      },
      "source": [
        "for s in [\"program\", \"includ\", \"match\", \"game\", \"plai\", \"window\", \"file\", \"subject\", \"write\"]:\n",
        "  model.view_likelihood(s)"
      ],
      "execution_count": null,
      "outputs": [
        {
          "output_type": "stream",
          "name": "stdout",
          "text": [
            "Probabilities for term 'program': {0.005902, 0.000110}\n",
            "Probabilities for term 'includ': {0.005266, 0.000697}\n",
            "Probabilities for term 'match': {0.000236, 0.000385}\n",
            "Probabilities for term 'game': {0.000218, 0.012291}\n",
            "Probabilities for term 'plai': {0.000127, 0.007265}\n",
            "Probabilities for term 'window': {0.013057, 0.000055}\n",
            "Probabilities for term 'file': {0.006701, 0.000055}\n",
            "Probabilities for term 'subject': {0.009843, 0.007687}\n",
            "Probabilities for term 'write': {0.003777, 0.005082}\n"
          ]
        }
      ]
    },
    {
      "cell_type": "markdown",
      "metadata": {
        "id": "koINvOkaNyYr"
      },
      "source": [
        "Lastly we can view the values for the piors as well."
      ]
    },
    {
      "cell_type": "code",
      "metadata": {
        "colab": {
          "base_uri": "https://localhost:8080/"
        },
        "id": "-ISS2qH5RIkk",
        "outputId": "ed2bc6a0-57b6-4326-8608-a65dfbd25a1c"
      },
      "source": [
        "model.view_priors()"
      ],
      "execution_count": null,
      "outputs": [
        {
          "output_type": "stream",
          "name": "stdout",
          "text": [
            "Class 0: 0.501250\n",
            "Class 1: 0.498750\n"
          ]
        }
      ]
    },
    {
      "cell_type": "markdown",
      "metadata": {
        "id": "wdzF6TsbyS1d"
      },
      "source": [
        "## Part 2: Simple Recommender System using K-Nearest-Neighbor "
      ]
    },
    {
      "cell_type": "markdown",
      "metadata": {
        "id": "1BnTSr1XP6m0"
      },
      "source": [
        "My Recommender Model is in the KNN class I created. You can give it a value for K which can be changed later and start predicting a rating for each data point that you wish to predict. It also generates a recommendation list for a user based on the rating they previous have. There are also auxilary methods to help with predictions and recommendations."
      ]
    },
    {
      "cell_type": "code",
      "metadata": {
        "id": "aIo0Rl3nSEvN"
      },
      "source": [
        "class KNN:\n",
        "  def __init__(self, K=1):\n",
        "    \"\"\"\n",
        "    Constructor fo the class\n",
        "\n",
        "    :param self:  Instance of class.\n",
        "    :param K:     (Default 1) The number of neighbors to consider.\n",
        "    \"\"\"\n",
        "    self.K = K\n",
        "  def set_K(self, K):\n",
        "    \"\"\"\n",
        "    Called to change the value of K.\n",
        "\n",
        "    :param self:  Instance of class.\n",
        "    :param K:     The number of neighbors to consider.\n",
        "    \"\"\"\n",
        "    self.K = K\n",
        "  def predict(self, train, user, item):\n",
        "    \"\"\"\n",
        "    This method predicts a rating for a user. First it calculates a pearson\n",
        "      correlation coefficient for the relations of a user's existing ratings with\n",
        "      those of other users in the train set. Then it uses those coeffecients to \n",
        "      generate a prediction of the item's rating for the user.\n",
        "    \n",
        "    :param self:    Instance of class.\n",
        "    :param train:   The train set.\n",
        "    :param user:    The user to consider (predicit a value).\n",
        "    :param item:     The item to predict a rating for the user.\n",
        "\n",
        "    :return:       A prediction for the rating. \n",
        "    \"\"\"\n",
        "    pearsons = self.calculate_pearsons(train, user, item)\n",
        "    prediction = self.generate_prediction(pearsons, item)\n",
        "    return prediction\n",
        "\n",
        "  def recommend(self, id, train, attrb_names, N):\n",
        "    \"\"\"\n",
        "    This method provides a list of recommendations for a user. It first predicts \n",
        "      the values for a item that the user has not rated yet, then it uses those\n",
        "      predicted ratings to generate a list of N recommendations.\n",
        "\n",
        "    :param self:        Instance of class.\n",
        "    :param id:          Id of user to generate a list of recommendations.\n",
        "    :param train:       Training set used to generate predictions.\n",
        "    :param attrb_names: Names of the attributes (i.e. movie names, jokes, etc.)\n",
        "    :param N:           Max number of items to recommend.\n",
        "    \"\"\"\n",
        "    preds = np.zeros(train[id].shape)\n",
        "    for idx in np.where(train[id] == 0)[0]:\n",
        "      preds[idx] = self.predict(train, train[id], idx)\n",
        "    \n",
        "    self.generate_recommendation(preds, N, attrb_names)\n",
        "\n",
        "  \"\"\" Auxilary Methods \"\"\"\n",
        "  def calculate_pearsons(self, train, user, idx):\n",
        "    \"\"\"\n",
        "    Calculates a perason correlation coefficient between the user and each sample\n",
        "      from the training set.\n",
        "    \n",
        "    :param self: Instance of class.\n",
        "    :param train: Training set.\n",
        "    :param user:  User to consider.\n",
        "    :param idx:   Index of the item we are predicting a rating.\n",
        "    \n",
        "    :return:      Array of pearson correlation coefficients.\n",
        "    \"\"\"\n",
        "    pearsons = []\n",
        "    # Iterate through each sample in the training set.\n",
        "    for x in train:\n",
        "      # Find the overlapping items rated that the sample and user have in common.\n",
        "      intersect = np.intersect1d(np.where(x>0)[0], np.where(user>0)[0])\n",
        "      if idx in intersect:\n",
        "        # Can't use the rating for the item we are trying to predict.\n",
        "        intersect = intersect[intersect != idx]\n",
        "      if len(intersect) < 2 or not np.std(x[intersect]) or not np.std(user[intersect]):\n",
        "        # Don't consider relations that will give us an undifined \n",
        "        #  correlation value. (i.e. standard deviation = 0)\n",
        "        pearsons.append(-2)\n",
        "      else:\n",
        "        # Add pearson coefficient to the list, only consider those that are not \n",
        "        # undefined.\n",
        "        r = pearsonr(x[intersect], user[intersect])[0]\n",
        "        if np.isnan(r):\n",
        "          pearsons.append(-2)\n",
        "        else:\n",
        "          pearsons.append(r)\n",
        "    return np.array(pearsons)\n",
        "\n",
        "  def generate_prediction(self, pearsons, item):\n",
        "    \"\"\"\n",
        "    Uses the pearson coefficients calculated and generates a predition for the \n",
        "    rating of an item for the user using the K nearest neighbors. Calculates the\n",
        "      weighted average of the K nearest neighbors' rating.\n",
        "\n",
        "    :param self:      Instance of class.\n",
        "    :param pearsons:  Pearson correlation coefficients.\n",
        "    :param item:      The item to consider.\n",
        "\n",
        "    :return:          The predicted rating.\n",
        "    \"\"\"\n",
        "    # Used to calculated the weighted average. \n",
        "    # (sum_top is the numerator and sum_bottom is the denominator in the formula.\n",
        "    sum_top, sum_bottom = 0,0\n",
        "    # Iterate through the K nearest neighbors\n",
        "    for _ in range(self.K):\n",
        "      i = np.argmax(pearsons)\n",
        "      # If there are no more neighbors to consider then stop searching \n",
        "      # i.e. K > number of neighbors \n",
        "      if pearsons[i] == -2:\n",
        "        break\n",
        "      sum_top += train[i,item] * pearsons[i]\n",
        "      sum_bottom += pearsons[i]\n",
        "      # Don't consider the neighbor we just used.\n",
        "      pearsons[i] = -2\n",
        "    return int(np.ceil((sum_top/sum_bottom)))\n",
        "  def generate_recommendation(self, preds, N, attb_names):\n",
        "    \"\"\"\n",
        "    Generates a list of recommendations based on the predictions for the items \n",
        "      not rated by the user.\n",
        "\n",
        "    :param self:        Instance of class.\n",
        "    :param preds:       The predictions calculated by the KNN model\n",
        "    :param N:           Max number of items to recommend.\n",
        "    :param attrb_names: Names of the attributes (i.e. movie names, jokes, etc.)\n",
        "    \"\"\"\n",
        "    recommendations = dict()\n",
        "    # Find the string value of the items we are trying to predict and create a \n",
        "    # dictionary that holds the corresponding rating.\n",
        "    for n in range(N):\n",
        "      if preds.sum():\n",
        "        i = np.argmax(preds)\n",
        "        recommendations[attb_names[i]] = preds[i]\n",
        "        preds[i] = 0\n",
        "        \n",
        "    #Print the list.\n",
        "    print(f'Your top {len(recommendations)} recommended movies are:')\n",
        "    for i, (k,v) in enumerate(recommendations.items()):\n",
        "      print(f'\\t{i+1}) {k}, {v}')\n",
        "    print('-'*100)"
      ],
      "execution_count": null,
      "outputs": []
    },
    {
      "cell_type": "code",
      "metadata": {
        "id": "lokk6DviTPif"
      },
      "source": [
        "def MAE(preds, labels):\n",
        "  \"\"\"\n",
        "  Calculates the Mean Absolute Error between the predicted rating the the true rating.\n",
        "  \"\"\"\n",
        "  N = preds.shape[0]\n",
        "  return np.sum(np.abs(preds-labels))/N"
      ],
      "execution_count": null,
      "outputs": []
    },
    {
      "cell_type": "markdown",
      "metadata": {
        "id": "3n5pZ4IVoLcn"
      },
      "source": [
        "### Training: Finding the optimal K"
      ]
    },
    {
      "cell_type": "markdown",
      "metadata": {
        "id": "bKklIWY0oQyC"
      },
      "source": [
        "First we load the dataset using pandas and extract only the meaningful data for our model."
      ]
    },
    {
      "cell_type": "code",
      "metadata": {
        "id": "cJGremtc0k49",
        "colab": {
          "base_uri": "https://localhost:8080/",
          "height": 204
        },
        "outputId": "26b93ed4-edfa-4c8b-876b-0001480fb261"
      },
      "source": [
        "df = pd.read_excel('/content/drive/MyDrive/recommonder/knn-csc480-a4.xls')\n",
        "df = df.replace(r'\\s+', np.nan, regex=True)\n",
        "df.fillna(0, inplace=True, downcast='infer')\n",
        "df.head()"
      ],
      "execution_count": null,
      "outputs": [
        {
          "output_type": "execute_result",
          "data": {
            "text/html": [
              "<div>\n",
              "<style scoped>\n",
              "    .dataframe tbody tr th:only-of-type {\n",
              "        vertical-align: middle;\n",
              "    }\n",
              "\n",
              "    .dataframe tbody tr th {\n",
              "        vertical-align: top;\n",
              "    }\n",
              "\n",
              "    .dataframe thead th {\n",
              "        text-align: right;\n",
              "    }\n",
              "</style>\n",
              "<table border=\"1\" class=\"dataframe\">\n",
              "  <thead>\n",
              "    <tr style=\"text-align: right;\">\n",
              "      <th></th>\n",
              "      <th>Unnamed: 0</th>\n",
              "      <th>TRUE BELIEVER</th>\n",
              "      <th>THE DA VINCI CODE</th>\n",
              "      <th>THE WORLD IS FLAT</th>\n",
              "      <th>MY LIFE SO FAR</th>\n",
              "      <th>THE TAKING</th>\n",
              "      <th>THE KITE RUNNER</th>\n",
              "      <th>RUNNY BABBIT</th>\n",
              "      <th>HARRY POTTER</th>\n",
              "    </tr>\n",
              "  </thead>\n",
              "  <tbody>\n",
              "    <tr>\n",
              "      <th>0</th>\n",
              "      <td>U1</td>\n",
              "      <td>2</td>\n",
              "      <td>4</td>\n",
              "      <td>0</td>\n",
              "      <td>3</td>\n",
              "      <td>0</td>\n",
              "      <td>0</td>\n",
              "      <td>1</td>\n",
              "      <td>1</td>\n",
              "    </tr>\n",
              "    <tr>\n",
              "      <th>1</th>\n",
              "      <td>U2</td>\n",
              "      <td>0</td>\n",
              "      <td>5</td>\n",
              "      <td>0</td>\n",
              "      <td>0</td>\n",
              "      <td>3</td>\n",
              "      <td>2</td>\n",
              "      <td>1</td>\n",
              "      <td>0</td>\n",
              "    </tr>\n",
              "    <tr>\n",
              "      <th>2</th>\n",
              "      <td>U3</td>\n",
              "      <td>3</td>\n",
              "      <td>0</td>\n",
              "      <td>1</td>\n",
              "      <td>2</td>\n",
              "      <td>2</td>\n",
              "      <td>0</td>\n",
              "      <td>0</td>\n",
              "      <td>5</td>\n",
              "    </tr>\n",
              "    <tr>\n",
              "      <th>3</th>\n",
              "      <td>U4</td>\n",
              "      <td>0</td>\n",
              "      <td>3</td>\n",
              "      <td>0</td>\n",
              "      <td>0</td>\n",
              "      <td>4</td>\n",
              "      <td>1</td>\n",
              "      <td>0</td>\n",
              "      <td>3</td>\n",
              "    </tr>\n",
              "    <tr>\n",
              "      <th>4</th>\n",
              "      <td>U5</td>\n",
              "      <td>2</td>\n",
              "      <td>4</td>\n",
              "      <td>3</td>\n",
              "      <td>0</td>\n",
              "      <td>0</td>\n",
              "      <td>2</td>\n",
              "      <td>1</td>\n",
              "      <td>0</td>\n",
              "    </tr>\n",
              "  </tbody>\n",
              "</table>\n",
              "</div>"
            ],
            "text/plain": [
              "  Unnamed: 0  TRUE BELIEVER  ...  RUNNY BABBIT  HARRY POTTER\n",
              "0         U1              2  ...             1             1\n",
              "1         U2              0  ...             1             0\n",
              "2         U3              3  ...             0             5\n",
              "3         U4              0  ...             0             3\n",
              "4         U5              2  ...             1             0\n",
              "\n",
              "[5 rows x 9 columns]"
            ]
          },
          "metadata": {},
          "execution_count": 23
        }
      ]
    },
    {
      "cell_type": "code",
      "metadata": {
        "colab": {
          "base_uri": "https://localhost:8080/"
        },
        "id": "OlPmD43Nbquq",
        "outputId": "4a9433ef-b519-4d41-acbf-e87f2cf5d9c2"
      },
      "source": [
        "movie_names = df.columns[1:].to_numpy()\n",
        "movie_names"
      ],
      "execution_count": null,
      "outputs": [
        {
          "output_type": "execute_result",
          "data": {
            "text/plain": [
              "array(['TRUE BELIEVER', 'THE DA VINCI CODE', 'THE WORLD IS FLAT',\n",
              "       'MY LIFE SO FAR', 'THE TAKING', 'THE KITE RUNNER', 'RUNNY BABBIT',\n",
              "       'HARRY POTTER'], dtype=object)"
            ]
          },
          "metadata": {},
          "execution_count": 24
        }
      ]
    },
    {
      "cell_type": "markdown",
      "metadata": {
        "id": "iBp5C8JeocOg"
      },
      "source": [
        "Split into training set and testing set."
      ]
    },
    {
      "cell_type": "code",
      "metadata": {
        "id": "UhHrhH8q02Yr",
        "colab": {
          "base_uri": "https://localhost:8080/",
          "height": 204
        },
        "outputId": "9c6e40de-0b0e-4c3b-f231-21ba696de772"
      },
      "source": [
        "df_train = df.iloc[:20, 1:]\n",
        "df_train.head()"
      ],
      "execution_count": null,
      "outputs": [
        {
          "output_type": "execute_result",
          "data": {
            "text/html": [
              "<div>\n",
              "<style scoped>\n",
              "    .dataframe tbody tr th:only-of-type {\n",
              "        vertical-align: middle;\n",
              "    }\n",
              "\n",
              "    .dataframe tbody tr th {\n",
              "        vertical-align: top;\n",
              "    }\n",
              "\n",
              "    .dataframe thead th {\n",
              "        text-align: right;\n",
              "    }\n",
              "</style>\n",
              "<table border=\"1\" class=\"dataframe\">\n",
              "  <thead>\n",
              "    <tr style=\"text-align: right;\">\n",
              "      <th></th>\n",
              "      <th>TRUE BELIEVER</th>\n",
              "      <th>THE DA VINCI CODE</th>\n",
              "      <th>THE WORLD IS FLAT</th>\n",
              "      <th>MY LIFE SO FAR</th>\n",
              "      <th>THE TAKING</th>\n",
              "      <th>THE KITE RUNNER</th>\n",
              "      <th>RUNNY BABBIT</th>\n",
              "      <th>HARRY POTTER</th>\n",
              "    </tr>\n",
              "  </thead>\n",
              "  <tbody>\n",
              "    <tr>\n",
              "      <th>0</th>\n",
              "      <td>2</td>\n",
              "      <td>4</td>\n",
              "      <td>0</td>\n",
              "      <td>3</td>\n",
              "      <td>0</td>\n",
              "      <td>0</td>\n",
              "      <td>1</td>\n",
              "      <td>1</td>\n",
              "    </tr>\n",
              "    <tr>\n",
              "      <th>1</th>\n",
              "      <td>0</td>\n",
              "      <td>5</td>\n",
              "      <td>0</td>\n",
              "      <td>0</td>\n",
              "      <td>3</td>\n",
              "      <td>2</td>\n",
              "      <td>1</td>\n",
              "      <td>0</td>\n",
              "    </tr>\n",
              "    <tr>\n",
              "      <th>2</th>\n",
              "      <td>3</td>\n",
              "      <td>0</td>\n",
              "      <td>1</td>\n",
              "      <td>2</td>\n",
              "      <td>2</td>\n",
              "      <td>0</td>\n",
              "      <td>0</td>\n",
              "      <td>5</td>\n",
              "    </tr>\n",
              "    <tr>\n",
              "      <th>3</th>\n",
              "      <td>0</td>\n",
              "      <td>3</td>\n",
              "      <td>0</td>\n",
              "      <td>0</td>\n",
              "      <td>4</td>\n",
              "      <td>1</td>\n",
              "      <td>0</td>\n",
              "      <td>3</td>\n",
              "    </tr>\n",
              "    <tr>\n",
              "      <th>4</th>\n",
              "      <td>2</td>\n",
              "      <td>4</td>\n",
              "      <td>3</td>\n",
              "      <td>0</td>\n",
              "      <td>0</td>\n",
              "      <td>2</td>\n",
              "      <td>1</td>\n",
              "      <td>0</td>\n",
              "    </tr>\n",
              "  </tbody>\n",
              "</table>\n",
              "</div>"
            ],
            "text/plain": [
              "   TRUE BELIEVER  THE DA VINCI CODE  ...  RUNNY BABBIT  HARRY POTTER\n",
              "0              2                  4  ...             1             1\n",
              "1              0                  5  ...             1             0\n",
              "2              3                  0  ...             0             5\n",
              "3              0                  3  ...             0             3\n",
              "4              2                  4  ...             1             0\n",
              "\n",
              "[5 rows x 8 columns]"
            ]
          },
          "metadata": {},
          "execution_count": 25
        }
      ]
    },
    {
      "cell_type": "code",
      "metadata": {
        "id": "eK8ctZej1tUR",
        "colab": {
          "base_uri": "https://localhost:8080/",
          "height": 204
        },
        "outputId": "9f1f14e4-2fde-4cd0-c333-8d42b40655cd"
      },
      "source": [
        "df_test = df.iloc[21:, 1:]\n",
        "df_test.head()"
      ],
      "execution_count": null,
      "outputs": [
        {
          "output_type": "execute_result",
          "data": {
            "text/html": [
              "<div>\n",
              "<style scoped>\n",
              "    .dataframe tbody tr th:only-of-type {\n",
              "        vertical-align: middle;\n",
              "    }\n",
              "\n",
              "    .dataframe tbody tr th {\n",
              "        vertical-align: top;\n",
              "    }\n",
              "\n",
              "    .dataframe thead th {\n",
              "        text-align: right;\n",
              "    }\n",
              "</style>\n",
              "<table border=\"1\" class=\"dataframe\">\n",
              "  <thead>\n",
              "    <tr style=\"text-align: right;\">\n",
              "      <th></th>\n",
              "      <th>TRUE BELIEVER</th>\n",
              "      <th>THE DA VINCI CODE</th>\n",
              "      <th>THE WORLD IS FLAT</th>\n",
              "      <th>MY LIFE SO FAR</th>\n",
              "      <th>THE TAKING</th>\n",
              "      <th>THE KITE RUNNER</th>\n",
              "      <th>RUNNY BABBIT</th>\n",
              "      <th>HARRY POTTER</th>\n",
              "    </tr>\n",
              "  </thead>\n",
              "  <tbody>\n",
              "    <tr>\n",
              "      <th>21</th>\n",
              "      <td>4</td>\n",
              "      <td>0</td>\n",
              "      <td>5</td>\n",
              "      <td>3</td>\n",
              "      <td>2</td>\n",
              "      <td>3</td>\n",
              "      <td>0</td>\n",
              "      <td>4</td>\n",
              "    </tr>\n",
              "    <tr>\n",
              "      <th>22</th>\n",
              "      <td>0</td>\n",
              "      <td>5</td>\n",
              "      <td>2</td>\n",
              "      <td>5</td>\n",
              "      <td>3</td>\n",
              "      <td>0</td>\n",
              "      <td>2</td>\n",
              "      <td>0</td>\n",
              "    </tr>\n",
              "    <tr>\n",
              "      <th>23</th>\n",
              "      <td>2</td>\n",
              "      <td>1</td>\n",
              "      <td>0</td>\n",
              "      <td>0</td>\n",
              "      <td>2</td>\n",
              "      <td>3</td>\n",
              "      <td>4</td>\n",
              "      <td>1</td>\n",
              "    </tr>\n",
              "    <tr>\n",
              "      <th>24</th>\n",
              "      <td>3</td>\n",
              "      <td>5</td>\n",
              "      <td>1</td>\n",
              "      <td>1</td>\n",
              "      <td>0</td>\n",
              "      <td>1</td>\n",
              "      <td>0</td>\n",
              "      <td>3</td>\n",
              "    </tr>\n",
              "    <tr>\n",
              "      <th>25</th>\n",
              "      <td>0</td>\n",
              "      <td>2</td>\n",
              "      <td>3</td>\n",
              "      <td>2</td>\n",
              "      <td>1</td>\n",
              "      <td>0</td>\n",
              "      <td>3</td>\n",
              "      <td>0</td>\n",
              "    </tr>\n",
              "  </tbody>\n",
              "</table>\n",
              "</div>"
            ],
            "text/plain": [
              "    TRUE BELIEVER  THE DA VINCI CODE  ...  RUNNY BABBIT  HARRY POTTER\n",
              "21              4                  0  ...             0             4\n",
              "22              0                  5  ...             2             0\n",
              "23              2                  1  ...             4             1\n",
              "24              3                  5  ...             0             3\n",
              "25              0                  2  ...             3             0\n",
              "\n",
              "[5 rows x 8 columns]"
            ]
          },
          "metadata": {},
          "execution_count": 26
        }
      ]
    },
    {
      "cell_type": "code",
      "metadata": {
        "id": "CdrX4FeLjZ5S"
      },
      "source": [
        "train = df_train.to_numpy()\n",
        "test = df_test.to_numpy()"
      ],
      "execution_count": null,
      "outputs": []
    },
    {
      "cell_type": "markdown",
      "metadata": {
        "id": "qP9YhapjoyYn"
      },
      "source": [
        "Here we begin finding the optimal K for our KNN model by iterating through our testing set and predicting a value for each rating that is known using our training set. The change the value of K from K=1 to K=20 incrementing by one each time. We are using the MAE to evaulate the model."
      ]
    },
    {
      "cell_type": "code",
      "metadata": {
        "id": "0B3w6VV27_c8"
      },
      "source": [
        "history = []\n",
        "recommender = KNN()\n",
        "for k in range(1,21):\n",
        "  recommender.set_K(k)\n",
        "  y_pred, y_true = [], []\n",
        "  for y in test:\n",
        "    for idx in np.where(y>0)[0]:\n",
        "      pred = recommender.predict(train, y, idx)\n",
        "      y_pred.append(pred)\n",
        "      y_true.append(y[idx])\n",
        "  history.append(MAE(np.array(y_pred), np.array(y_true)))"
      ],
      "execution_count": null,
      "outputs": []
    },
    {
      "cell_type": "markdown",
      "metadata": {
        "id": "CVp10PLapQ1a"
      },
      "source": [
        "This graph shows the value of the calculated MAE against the value of K. We are trying to find the optimal K for our dataset, so we are trying to minimize the MAE."
      ]
    },
    {
      "cell_type": "code",
      "metadata": {
        "id": "rp8aMArh8di0",
        "colab": {
          "base_uri": "https://localhost:8080/",
          "height": 328
        },
        "outputId": "d88b6ff6-4987-4703-cc15-ac54cc023588"
      },
      "source": [
        "import matplotlib.pyplot as plt\n",
        "\n",
        "plt.title('Mean Absolute Error over differnt values of K')\n",
        "plt.plot(np.arange(1,21,1, dtype=np.int32), history)\n",
        "plt.xticks(np.arange(1,21,1))\n",
        "# plt.yticks(np.arange(0, max(history)+2, 2))\n",
        "plt.xlabel('K')\n",
        "plt.ylabel('MAE')\n",
        "plt.show()\n",
        "\n",
        "md(f'As we can see the optimal value we have is $K={np.argmin(history)+1}$ with an MAE value of {np.min(history):.4f}. Thus we test using this optimal $K$')"
      ],
      "execution_count": null,
      "outputs": [
        {
          "output_type": "display_data",
          "data": {
            "image/png": "[encoded data removed]",
            "text/plain": [
              "<Figure size 432x288 with 1 Axes>"
            ]
          },
          "metadata": {
            "needs_background": "light"
          }
        },
        {
          "output_type": "execute_result",
          "data": {
            "text/markdown": "As we can see the optimal value we have is $K=4$ with an MAE value of 1.1786. Thus we test using this optimal $K$",
            "text/plain": [
              "<IPython.core.display.Markdown object>"
            ]
          },
          "metadata": {},
          "execution_count": 29
        }
      ]
    },
    {
      "cell_type": "markdown",
      "metadata": {
        "id": "GFiydQmirmwP"
      },
      "source": [
        "### Testing with the optimal K"
      ]
    },
    {
      "cell_type": "markdown",
      "metadata": {
        "id": "da6ZuZ86q_mF"
      },
      "source": [
        "Next we use the optimal K to predict the missing ratings for users NU1 and NU2"
      ]
    },
    {
      "cell_type": "code",
      "metadata": {
        "colab": {
          "base_uri": "https://localhost:8080/"
        },
        "id": "_r2caFYsaX8F",
        "outputId": "a35b967c-2a1f-413d-dfdf-32469e8deec3"
      },
      "source": [
        "recommender.set_K(4)\n",
        "for i,y in enumerate(test[:2,:]):\n",
        "  print(f'Predicting Missing Values for NU{i+1}: \\n\\t{y}')\n",
        "  for idx in np.where(y==0)[0]:\n",
        "    print(f'Prediction for NU{i+1} for {movie_names[idx]} is {recommender.predict(train,y,idx)}')\n",
        "  print('-'*100)"
      ],
      "execution_count": null,
      "outputs": [
        {
          "output_type": "stream",
          "name": "stdout",
          "text": [
            "Predicting Missing Values for NU1: \n",
            "\t[4 0 5 3 2 3 0 4]\n",
            "Prediction for NU1 for THE DA VINCI CODE is 3\n",
            "Prediction for NU1 for RUNNY BABBIT is 2\n",
            "----------------------------------------------------------------------------------------------------\n",
            "Predicting Missing Values for NU2: \n",
            "\t[0 5 2 5 3 0 2 0]\n",
            "Prediction for NU2 for TRUE BELIEVER is 2\n",
            "Prediction for NU2 for THE KITE RUNNER is 2\n",
            "Prediction for NU2 for HARRY POTTER is 2\n",
            "----------------------------------------------------------------------------------------------------\n"
          ]
        }
      ]
    },
    {
      "cell_type": "markdown",
      "metadata": {
        "id": "DWgqLNaPrcur"
      },
      "source": [
        "### Generating a list of Recommendations"
      ]
    },
    {
      "cell_type": "markdown",
      "metadata": {
        "id": "JT0o66qnrvQ8"
      },
      "source": [
        "Here we use a value of K=4 to generate a list of recommendations for users 2,5,13, and 20"
      ]
    },
    {
      "cell_type": "code",
      "metadata": {
        "colab": {
          "base_uri": "https://localhost:8080/"
        },
        "id": "LgIa9cZ8a7lf",
        "outputId": "41c3dfb3-45e1-4521-ff2e-7567bebe86d6"
      },
      "source": [
        "recommender.set_K(4)\n",
        "for id in [1,4,12,19]:\n",
        "  recommender.recommend(id, train, movie_names, 3)"
      ],
      "execution_count": null,
      "outputs": [
        {
          "output_type": "stream",
          "name": "stdout",
          "text": [
            "Your top 3 recommended movies are:\n",
            "\t1) HARRY POTTER, 3.0\n",
            "\t2) TRUE BELIEVER, 2.0\n",
            "\t3) THE WORLD IS FLAT, 2.0\n",
            "----------------------------------------------------------------------------------------------------\n",
            "Your top 3 recommended movies are:\n",
            "\t1) THE TAKING, 2.0\n",
            "\t2) HARRY POTTER, 2.0\n",
            "\t3) MY LIFE SO FAR, 1.0\n",
            "----------------------------------------------------------------------------------------------------\n",
            "Your top 3 recommended movies are:\n",
            "\t1) THE DA VINCI CODE, 3.0\n",
            "\t2) THE KITE RUNNER, 3.0\n",
            "\t3) TRUE BELIEVER, 2.0\n",
            "----------------------------------------------------------------------------------------------------\n",
            "Your top 1 recommended movies are:\n",
            "\t1) RUNNY BABBIT, 2.0\n",
            "----------------------------------------------------------------------------------------------------\n"
          ]
        }
      ]
    },
    {
      "cell_type": "markdown",
      "metadata": {
        "id": "KOalwaeF5mGR"
      },
      "source": [
        "## Extra Credit: Joke Recommender System using K-Nearest-Neighbor "
      ]
    },
    {
      "cell_type": "markdown",
      "metadata": {
        "id": "Ia0_7QAbsEDx"
      },
      "source": [
        "For this part we run the same experiment as above to find the optimal K for the new joke rating dataset. We are simply just importing the data and spliting it into a training and test set. Then we find the optimal K and generate a list of recommendations for a user using the optimal K"
      ]
    },
    {
      "cell_type": "code",
      "metadata": {
        "id": "LZ7jr9xY5mGR"
      },
      "source": [
        "df = pd.read_csv('/content/drive/MyDrive/recommonder/jokes/modified_jester_data.csv', header=None).iloc[900:, :].to_numpy()"
      ],
      "execution_count": null,
      "outputs": []
    },
    {
      "cell_type": "code",
      "metadata": {
        "id": "__HLW3lq5mGS"
      },
      "source": [
        "movie_names = pd.read_csv('/content/drive/MyDrive/recommonder/jokes/jokes.csv', header=None).iloc[:, 1].to_numpy()"
      ],
      "execution_count": null,
      "outputs": []
    },
    {
      "cell_type": "code",
      "metadata": {
        "id": "_3JS16zn5mGS"
      },
      "source": [
        "np.random.shuffle(df)\n",
        "train, test = df[:80,:], df[80:, :]"
      ],
      "execution_count": null,
      "outputs": []
    },
    {
      "cell_type": "code",
      "metadata": {
        "colab": {
          "base_uri": "https://localhost:8080/"
        },
        "id": "dDNa6BfT5mGT",
        "outputId": "0884683a-b48a-4187-c6c8-e568c2c034eb"
      },
      "source": [
        "history = []\n",
        "recommender = KNN()\n",
        "for k in range(1,51):\n",
        "  print(f'\\rK: {k}', end='')\n",
        "  recommender.set_K(k)\n",
        "  y_pred, y_true = [], []\n",
        "  for y in test:\n",
        "    for idx in np.where(y>0)[0]:\n",
        "      pred = recommender.predict(train, y, idx)\n",
        "      y_pred.append(pred)\n",
        "      y_true.append(y[idx])\n",
        "  history.append(MAE(np.array(y_pred), np.array(y_true)))"
      ],
      "execution_count": null,
      "outputs": [
        {
          "output_type": "stream",
          "name": "stdout",
          "text": [
            "K: 50"
          ]
        }
      ]
    },
    {
      "cell_type": "code",
      "metadata": {
        "colab": {
          "base_uri": "https://localhost:8080/",
          "height": 328
        },
        "id": "bv7xOp9o5mGU",
        "outputId": "34593d87-e197-4114-d376-e50c4dff1199"
      },
      "source": [
        "import matplotlib.pyplot as plt\n",
        "\n",
        "plt.title('Mean Absolute Error over differnt values of K')\n",
        "plt.plot(np.arange(1,51,1, dtype=np.int32), history)\n",
        "plt.xticks(np.arange(1,51,5))\n",
        "plt.yticks(np.arange(0, max(history)+2, 2))\n",
        "plt.xlabel('K')\n",
        "plt.ylabel('MAE')\n",
        "plt.show()\n",
        "md(f'As we can see the optimal value we have is $K={np.argmin(history)+1}$ with an MAE value of {np.min(history):.4f}.')"
      ],
      "execution_count": null,
      "outputs": [
        {
          "output_type": "display_data",
          "data": {
            "image/png": "[encoded data removed]",
            "text/plain": [
              "<Figure size 432x288 with 1 Axes>"
            ]
          },
          "metadata": {
            "needs_background": "light"
          }
        },
        {
          "output_type": "execute_result",
          "data": {
            "text/markdown": "As we can see the optimal value we have is $K=50$ with an MAE value of 4.4323.",
            "text/plain": [
              "<IPython.core.display.Markdown object>"
            ]
          },
          "metadata": {},
          "execution_count": 77
        }
      ]
    },
    {
      "cell_type": "code",
      "metadata": {
        "colab": {
          "base_uri": "https://localhost:8080/"
        },
        "id": "fmpY4QNGNrd6",
        "outputId": "acc4c2e8-1cdb-44c5-9989-410ffb1482b3"
      },
      "source": [
        "history = np.array(history)\n",
        "history[:11].flatten(), history[11:22].flatten(), history[30:].flatten()"
      ],
      "execution_count": null,
      "outputs": [
        {
          "output_type": "execute_result",
          "data": {
            "text/plain": [
              "(array([6.92753358, 5.85250305, 5.58299145, 5.37643468, 5.22371184,\n",
              "        5.14410256, 5.09221001, 5.028779  , 5.02749695, 4.99163614,\n",
              "        4.96478632]),\n",
              " array([4.92462759, 4.88714286, 4.86382173, 4.83842491, 4.8060928 ,\n",
              "        4.80482295, 4.77485958, 4.76411477, 4.73864469, 4.72797314,\n",
              "        4.70940171]),\n",
              " array([4.61505495, 4.6174359 , 4.61009768, 4.60283272, 4.56791209,\n",
              "        4.54777778, 4.53980464, 4.5201221 , 4.49542125, 4.49393162,\n",
              "        4.48799756, 4.47525031, 4.46614164, 4.4729304 , 4.46460317,\n",
              "        4.46350427, 4.45034188, 4.44155067, 4.43774115, 4.43229548]))"
            ]
          },
          "metadata": {},
          "execution_count": 82
        }
      ]
    },
    {
      "cell_type": "markdown",
      "metadata": {
        "id": "ruUrrIhxs8of"
      },
      "source": [
        "Now that we have found the optimal $K$ we begin to use it to generate a list of recommendaitons for a user."
      ]
    },
    {
      "cell_type": "code",
      "metadata": {
        "colab": {
          "base_uri": "https://localhost:8080/"
        },
        "id": "mi_eZFIK5mGU",
        "outputId": "60c16c0a-46b1-4ecf-c3c2-51eb3f778bf6"
      },
      "source": [
        "recommender.set_K(15)\n",
        "for i,y in enumerate(test[:2,:]):\n",
        "  print(f'Predicting Missing Values for NU{i+1}: \\n\\t{y}')\n",
        "  for idx in np.where(y==0)[0]:\n",
        "    print(f'Prediction for NU{i+1} for {movie_names[idx]} is {recommender.predict(train,y,idx)}')\n",
        "  print('-'*100)"
      ],
      "execution_count": null,
      "outputs": [
        {
          "output_type": "stream",
          "name": "stdout",
          "text": [
            "Predicting Missing Values for NU1: \n",
            "\t[ 3.67  4.45  3.67  3.67  9.4   7.65  3.86  4.4   3.67  4.93  4.45  3.38\n",
            "  4.4   3.38  9.93  3.48  4.4   4.4   9.98  3.86  9.79  3.38  3.38  3.67\n",
            "  3.38  6.78 11.49  3.33  3.62  3.62  7.36  7.84  3.67  7.65  8.43  8.52\n",
            "  3.62  3.38  3.38  3.38  7.12 10.17 10.03  3.86  3.38  7.02  3.62  3.38\n",
            "  3.33  7.7   6.63  4.45  3.77  6.83  3.86  3.86  3.67  3.67  3.67  3.67\n",
            "  7.21  8.33  3.38  3.67  7.17  6.83  3.67  3.77  3.86  3.38  4.3   4.3\n",
            "  4.3   4.3   3.86  6.63  4.11  4.11  7.21  3.82  3.82  3.82  3.82  3.33\n",
            "  4.16  9.2   4.16  4.16  3.82  3.82  3.82  6.87  6.87  3.77  3.77  3.77\n",
            "  3.77  3.77  3.77  3.28]\n",
            "----------------------------------------------------------------------------------------------------\n",
            "Predicting Missing Values for NU2: \n",
            "\t[10.47 14.11 12.41 12.84 11.34 12.36 11.19 12.99  5.71 12.6  12.84 13.72\n",
            " 11.1  13.48 10.37  5.85  3.43 12.02 12.02  7.8  14.79 12.26 13.72  9.83\n",
            " 11.19 12.84 13.67 13.23 12.84 12.02 13.62 13.82  4.59 11.53 13.82 14.54\n",
            " 10.9  12.6  11.68  9.35 11.63 14.3  10.08  3.91 13.72 14.11 13.09 14.93\n",
            " 13.23 13.43 10.47 12.6  13.82 13.33 10.66 14.2  12.12  8.62 13.28 12.75\n",
            " 13.48 13.72 11.19 11.44 13.09 13.48  6.68 13.33 13.96 11.53  0.    0.\n",
            "  0.    0.    0.    0.    0.   11.53  0.    0.    0.    0.    0.    0.\n",
            "  0.    0.    0.    0.    0.    0.    0.    0.    0.    0.    0.    0.\n",
            "  0.   13.77  0.    0.  ]\n",
            "Prediction for NU2 for At a recent Sacramento PC Users Group meeting a company was demonstrating its latest speech-recognition software.   A representative from the company was just about ready to start the demonstration and asked everyone in the room to quiet down.Just then someone in the back of the room yelled\"Format C: Return.\"Someone else chimed in:\"Yes Return\"Unfortunately the software worked. is 2\n",
            "Prediction for NU2 for On the first day of college the Dean addressed the students pointing out some of the rules:\"The female dormitory will be out-of-bounds for all male students and the male dormitory to the female students. Anybody caught breaking this rule will be fined $20 the first time.\" He continued \"Anybody caught breaking this rule the second time will be fined $60. Being caught a third time will cost you a fine of $180. Are there any questions ?\"At this point a male student in the crowd inquired:\"How much for a season pass ?\" is 2\n",
            "Prediction for NU2 for Q: What is the difference between George  Washington Richard Nixon and Bill Clinton? A: Washington couldn't tell a lie Nixon couldn't   tell the truth andClinton doesn't know the difference. is 1\n",
            "Prediction for NU2 for Q: How many stalkers does it take to change a light bulb?A: Two. One to replace the bulb and the other to watch it day and night. is 2\n",
            "Prediction for NU2 for Q: Do you know the difference between an intelligent male and theSasquatch? A: There have been actual reported sightings of the Sasquatch. is 3\n",
            "Prediction for NU2 for There once was a man and a woman that both  got in  a terrible car wreck. Both of their vehicles  were completely destroyed buy fortunately no one  was   hurt.  In thankfulness the woman said to the man 'We are both okay so we should celebrate. I have   a  bottle of wine in my car let's open it.' So the woman got the bottle out of the car and  handed it to the man. The man took a really big drink and handed the woman the bottle. The  woman  closed the bottle and put it down. The man  asked  'Aren't you going to take a drink?' The woman cleverly replied 'No I think I'll  just  wait for the cops to get here.' is 1\n",
            "Prediction for NU2 for If pro- is the opposite of con- then congress must be the opposite of progress. is 1\n",
            "Prediction for NU2 for Q: Ever wonder why the IRS calls it Form 1040?A: Because for every $50 that you earn you get 10 and they get 40. is 1\n",
            "Prediction for NU2 for Hillary Bill Clinton and the Pope are sitting together on an airplane. Bill says \"I could throw one thousand dollar bill out of this plane and make one person very happy.\"Hillary says \"I could throw 10 hundred dollar bills out of the plane and make 10 people very happy.\"The Pope chips in and says \"I could throw Bill out of the airplane and make the whole country happy.\" is 1\n",
            "Prediction for NU2 for An Asian man goes into a New York CityBank to exchange 10000 yen forAmerican Currency.  The teller gives him $72.00.  The next month theAsian man goes into the same bank with 10000 yen and receives $62.00.He asks \"How come? Only $62.00?\" The teller says \"Fluctuations-Fluctuations!\"Whereupon the Asian man looks back at the teller and says \"Fluk youAmelicans too!\" is 1\n",
            "Prediction for NU2 for Q: How do you keep a computer programmer in the shower all day long?A: Give them a shampoo with a label that says\"rinse lather repeat\". is 2\n",
            "Prediction for NU2 for What a woman says:\"This place is a mess!  C'monYou and I need to clean upYour stuff is lying on the floor and you'll have no clothes to wear if we don't do laundry right now!\"What a man hears:blah blah blah blah C'mon blah blah blah blah you and I blah blah blah blah on the floor blah blah blah blah no clothes blah blah blah blah RIGHT NOW! is 2\n",
            "Prediction for NU2 for Q: What is the difference between Mechanical Engineers and Civil Engineers? A: Mechanical Engineers build weapons Civil Engineers build targets. is 2\n",
            "Prediction for NU2 for Q: How many Presidents does it take to screw in a light bulb?A: It depends upon your definition of screwing a light bulb. is 3\n",
            "Prediction for NU2 for A neutron walks into a bar and orders a drink.\"How much do I owe you?\" the neutron asks.The bartender replies \"for you no charge.\" is 2\n",
            "Prediction for NU2 for A man recently completing a routine physical examination receives a phone call from his doctor.  The doctor says \"I have some good news and some bad news.\"  The man says \"OK give me the good news first.\"  The doctor says \"The good news is you have 24 hours to live.\"  The man replies \"Shit!  That's the good news?  Then what's the bad news?\"The doctor says \"The bad news is I forgot to call you yesterday.\" is 1\n",
            "Prediction for NU2 for A Czechoslovakian man felt his eyesight was growing steadily worse and felt it was time to go see an optometrist. The doctor started with some simple testing and showed him a standard eye chart with letters of diminishing size: CRKBNWXSKZY. . . \"Can you read this?\" the doctor asked. \"Read it?\" the Czech answered. \"Doc I know him!\" is 2\n",
            "Prediction for NU2 for A radio conversation of a US naval ship with Canadian authorities ... Americans: Please divert your course 15 degrees to the North to avoid a collision.Canadians: Recommend you divert YOUR course 15 degrees to the South to avoid a collision.Americans: This is the Captain of a US Navy ship.  I say again divert YOUR course.Canadians: No.  I say again you divert YOUR course.Americans: This is the aircraft carrier USS LINCOLN the second largest ship in the United States' Atlantic Fleet. We are accompanied by three destroyers three cruisers and numerous support vessels. I demand that you change your course 15 degrees north that's ONE FIVE DEGREES NORTH or counter-measures will be undertaken to ensure the safety of this ship.Canadians: This is a lighthouse.  Your call. is 2\n",
            "Prediction for NU2 for Q: How many programmers does it take to change a lightbulb?A: NONE!   That's a hardware problem.... is 1\n",
            "Prediction for NU2 for A Panda bear walks into a bar.  Sits down at a table and orders a beer and a double cheeseburger.  After he is finished eating he pulls out a gun and rips the place with gunfire.  Patrons scatter and dive under chairs and tables as the bear runs out the door.  After ensuring that no one is hurt the bartender races out the door and calls after the bear \"What the hell did you do that for?\"  The bear calls back \"I'm a Panda bear.  Look it up in the dictionary.\"  The bartender returns pulls out his dictionary.panda : \\Pan\"da\\ n. (Zo[\"o]l.)A small Asiatic mammal (Ailurus fulgens) having fine soft fur.It is related to the bears and inhabits the mountains of Northern India.Eats shoots and leaves. is 4\n",
            "Prediction for NU2 for Early one morning a mother went to her sleeping son and woke him up.\"Wake up son.  It's time to go to school.\" \"But why Mama?  I don't want to go to school.\" \"Give me two reasons why you don't want to go to school.\" \"One all the children hate me. Two all the teachers hate me\" \"Oh! that's no reason. Come on you have to go to school\" \"Give me two good reasons WHY I should go to school?\"  \"One you are fifty-two years old. Two you are the principal of the school.\"  is 4\n",
            "Prediction for NU2 for Reaching the end of a job interview the human resources person asked a young engineer fresh out of Stanford\"And what starting salary were you looking for?\"The engineer said \"In the neighborhood of $125000 a year depending on the benefits package.\"The interviewer said \"Well what would you say to a package of 5-weeks vacation 14 paid holidays full medical and dental company matching retirement fund to 50% of salary and a company car leased every 2 years - say a red Corvette?\"The Engineer sat up straight and said \"Wow! Are you kidding?\"And the interviewer replied \"Yeah but you started it.\" is 4\n",
            "Prediction for NU2 for Two atoms are walking down the street when one atom says to the other \"Oh my! I've lost an electron!\"The second atom says\"Are you sure\"The first replies \"I'm positive!\" is 2\n",
            "Prediction for NU2 for Just a thought ..Before criticizing someone walk a mile in their shoes.  Then when you do criticize them you will be a mile away and have their shoes ! is 3\n",
            "Prediction for NU2 for Two attorneys went into a diner and ordered two drinks.  Then they produced sandwiches from their briefcases and started to eat.  The owner became quite concerned and marched over and told them \"You can't eat your own sandwiches in here!\"The attorneys looked at each other shrugged their shoulders and then exchanged sandwiches. is 1\n",
            "Prediction for NU2 for A teacher is explaining to her class how different languages use negatives differently.  She says \"In all languages a positive followed by a negative or a negative followed by a positive makes a negative.  In some languages two negatives together make a positive while in others they make a negative.  But in no language do two positives make a negative.\"  One of the students puts up his hand and says \"Yeah right.\" is 2\n",
            "Prediction for NU2 for A bus station is where a bus stops.A train station is where a train stops.On my desk I have a work station... is 2\n",
            "Prediction for NU2 for Q: What's the difference between greeting a Queen and greeting thePresident of the United  States?A: You only have to get on one knee to greet the queen. is 2\n",
            "----------------------------------------------------------------------------------------------------\n"
          ]
        }
      ]
    },
    {
      "cell_type": "markdown",
      "metadata": {
        "id": "_RAudtOVyof2"
      },
      "source": [
        "Finally we list the recommendtions for three users"
      ]
    },
    {
      "cell_type": "code",
      "metadata": {
        "colab": {
          "base_uri": "https://localhost:8080/"
        },
        "id": "TFjQW7eA5mGU",
        "outputId": "eab6b7be-5823-4427-e9e1-49cc1ca51954"
      },
      "source": [
        "recommender.set_K(15)\n",
        "np.random.shuffle(test)\n",
        "for id in range(len(test)):\n",
        "  recommender.recommend(id, train, movie_names, 3)\n",
        "  if id == 3:\n",
        "    break"
      ],
      "execution_count": null,
      "outputs": [
        {
          "output_type": "stream",
          "name": "stdout",
          "text": [
            "Your top 3 recommended movies are:\n",
            "\t1) A bus station is where a bus stops.A train station is where a train stops.On my desk I have a work station..., 5.0\n",
            "\t2) A Panda bear walks into a bar.  Sits down at a table and orders a beer and a double cheeseburger.  After he is finished eating he pulls out a gun and rips the place with gunfire.  Patrons scatter and dive under chairs and tables as the bear runs out the door.  After ensuring that no one is hurt the bartender races out the door and calls after the bear \"What the hell did you do that for?\"  The bear calls back \"I'm a Panda bear.  Look it up in the dictionary.\"  The bartender returns pulls out his dictionary.panda : \\Pan\"da\\ n. (Zo[\"o]l.)A small Asiatic mammal (Ailurus fulgens) having fine soft fur.It is related to the bears and inhabits the mountains of Northern India.Eats shoots and leaves., 4.0\n",
            "\t3) Two atoms are walking down the street when one atom says to the other \"Oh my! I've lost an electron!\"The second atom says\"Are you sure\"The first replies \"I'm positive!\", 4.0\n",
            "----------------------------------------------------------------------------------------------------\n",
            "Your top 0 recommended movies are:\n",
            "----------------------------------------------------------------------------------------------------\n",
            "Your top 3 recommended movies are:\n",
            "\t1) What is the difference between men and women:A woman wants one man to satisfy her every need.A man wants every woman to satisfy his one need., 14.0\n",
            "\t2) What's the difference between a used tire and 365 used condoms?One's a Goodyear the other's a great year., 13.0\n",
            "\t3) A mechanical electrical and a software engineer from Microsoft were driving through the desert when the car broke down. The mechanical engineer said \"It seems to be a problem with the fuel injection system why don't we pop the hood and I'll take a look at it.\" To which the electrical engineer replied \"No I think it's just a loose ground wireI'll get out and take a look.\" Then the Microsoft engineer jumps in.\"No no no. If we just close up all the windows get out wait a few minutes get back in and then reopen the windows everything will work fine.\", 13.0\n",
            "----------------------------------------------------------------------------------------------------\n",
            "Your top 3 recommended movies are:\n",
            "\t1) On the first day of college the Dean addressed the students pointing out some of the rules:\"The female dormitory will be out-of-bounds for all male students and the male dormitory to the female students. Anybody caught breaking this rule will be fined $20 the first time.\" He continued \"Anybody caught breaking this rule the second time will be fined $60. Being caught a third time will cost you a fine of $180. Are there any questions ?\"At this point a male student in the crowd inquired:\"How much for a season pass ?\", 4.0\n",
            "\t2) A Panda bear walks into a bar.  Sits down at a table and orders a beer and a double cheeseburger.  After he is finished eating he pulls out a gun and rips the place with gunfire.  Patrons scatter and dive under chairs and tables as the bear runs out the door.  After ensuring that no one is hurt the bartender races out the door and calls after the bear \"What the hell did you do that for?\"  The bear calls back \"I'm a Panda bear.  Look it up in the dictionary.\"  The bartender returns pulls out his dictionary.panda : \\Pan\"da\\ n. (Zo[\"o]l.)A small Asiatic mammal (Ailurus fulgens) having fine soft fur.It is related to the bears and inhabits the mountains of Northern India.Eats shoots and leaves., 4.0\n",
            "\t3) Reaching the end of a job interview the human resources person asked a young engineer fresh out of Stanford\"And what starting salary were you looking for?\"The engineer said \"In the neighborhood of $125000 a year depending on the benefits package.\"The interviewer said \"Well what would you say to a package of 5-weeks vacation 14 paid holidays full medical and dental company matching retirement fund to 50% of salary and a company car leased every 2 years - say a red Corvette?\"The Engineer sat up straight and said \"Wow! Are you kidding?\"And the interviewer replied \"Yeah but you started it.\", 4.0\n",
            "----------------------------------------------------------------------------------------------------\n"
          ]
        }
      ]
    },
    {
      "cell_type": "code",
      "metadata": {
        "id": "tU7mLgVQ5mGV"
      },
      "source": [
        "import numpy as np\n",
        "\n",
        "m = [1,1,2,3,4,4]\n",
        "l=[4,5,3,3,2,1]\n",
        "e = [5,4,4,4,1,2]\n",
        "\n",
        "c1 = [1.67, 1, 2.3, 2.67, 4.33, 4,33]\n",
        "c2 = [4.5, 5, 3, 3, 1.5, 1]\n",
        "\n"
      ],
      "execution_count": null,
      "outputs": []
    },
    {
      "cell_type": "code",
      "metadata": {
        "colab": {
          "base_uri": "https://localhost:8080/"
        },
        "id": "pGrCxMvMIeUk",
        "outputId": "a550d971-033d-4342-bc07-49537551b906"
      },
      "source": [
        "sum([m[i] * c1[i] for i in range(len(m))]), sum([m[i] * c2[i] for i in range(len(m))])"
      ],
      "execution_count": null,
      "outputs": [
        {
          "output_type": "execute_result",
          "data": {
            "text/plain": [
              "(48.6, 34.5)"
            ]
          },
          "metadata": {},
          "execution_count": 7
        }
      ]
    },
    {
      "cell_type": "code",
      "metadata": {
        "colab": {
          "base_uri": "https://localhost:8080/"
        },
        "id": "dJkR0NTHIhJh",
        "outputId": "5ceb92d3-af3f-4d19-d238-3309f0b634e7"
      },
      "source": [
        "sum([l[i] * c1[i] for i in range(len(m))]), sum([l[i] * c2[i] for i in range(len(m))])"
      ],
      "execution_count": null,
      "outputs": [
        {
          "output_type": "execute_result",
          "data": {
            "text/plain": [
              "(39.25, 65.0)"
            ]
          },
          "metadata": {},
          "execution_count": 8
        }
      ]
    },
    {
      "cell_type": "code",
      "metadata": {
        "id": "i7-DNC4oI2HZ",
        "outputId": "8867c021-bed5-40f5-e675-6920479c7655",
        "colab": {
          "base_uri": "https://localhost:8080/"
        }
      },
      "source": [
        "sum([e[i] * c1[i] for i in range(len(m))]), sum([e[i] * c2[i] for i in range(len(m))])"
      ],
      "execution_count": null,
      "outputs": [
        {
          "output_type": "execute_result",
          "data": {
            "text/plain": [
              "(44.559999999999995, 70.0)"
            ]
          },
          "metadata": {},
          "execution_count": 9
        }
      ]
    },
    {
      "cell_type": "code",
      "metadata": {
        "id": "JFa_gqs6I3ij"
      },
      "source": [
        ""
      ],
      "execution_count": null,
      "outputs": []
    }
  ]
}
